{
 "cells": [
  {
   "cell_type": "code",
   "execution_count": 6,
   "metadata": {},
   "outputs": [],
   "source": [
    "# TO FIND ALL THE PRIME FACTORS OF A GIVEN NUMBER\n",
    "import time"
   ]
  },
  {
   "cell_type": "code",
   "execution_count": 7,
   "metadata": {},
   "outputs": [],
   "source": [
    "#Finding all the prime numbers till the given number:\n",
    "class findingprime:\n",
    "    def __init__(self,final,lengthoflist=-1,divisible_lst=[],numbers = [],prime_factors = []):\n",
    "        self.final = final\n",
    "        self.numbers = numbers\n",
    "        self.lengthoflist = lengthoflist\n",
    "        self.divisible_lst = divisible_lst  \n",
    "    def primemethod(self):\n",
    "        for i in range(self.final):\n",
    "            self.numbers.append(i) \n",
    "        for i,j in enumerate(self.numbers):\n",
    "            if i > 1:\n",
    "                for p in self.numbers:                   \n",
    "                    if p>i:\n",
    "                        if p%i == 0:\n",
    "                            self.numbers.remove(p)\n",
    "        self.numbers.remove(0)\n",
    "        self.numbers.remove(1)\n",
    "        #print(self.numbers)      "
   ]
  },
  {
   "cell_type": "code",
   "execution_count": 8,
   "metadata": {},
   "outputs": [],
   "source": [
    "#Finding the prime-factors of the given number\n",
    "class primefactors(findingprime):\n",
    "    def mainlogic(self):\n",
    "        self.lengthoflist = -1\n",
    "        self.divisible_lst = []\n",
    "        numb = self.final\n",
    "        for i in self.numbers:\n",
    "            if self.final%i == 0:\n",
    "                self.divisible_lst.append(i)        \n",
    "        self.prime_factors = []\n",
    "        for i in self.divisible_lst:            \n",
    "            while True:\n",
    "                if self.final%i == 0:\n",
    "                    self.prime_factors.append(i)\n",
    "                    self.final = self.final/i     \n",
    "                else:\n",
    "                    break\n",
    "        print('\\nThe prime factors of the number {} are '.format(numb),self.prime_factors)   "
   ]
  },
  {
   "cell_type": "code",
   "execution_count": 12,
   "metadata": {},
   "outputs": [
    {
     "name": "stdout",
     "output_type": "stream",
     "text": [
      "Enter the number to which you want to find the prime factors(if any)10\n",
      "The prime factors of the number 10 are  [2, 5]\n",
      "\n",
      "DO YOU WANT THE PROGRAM TO RUN AGAIN (y/n)Y\n",
      "\n",
      "Enter the number to which you want to find the prime factors(if any)45\n",
      "The prime factors of the number 45 are  [3, 3, 5]\n",
      "\n",
      "DO YOU WANT THE PROGRAM TO RUN AGAIN (y/n)y\n",
      "\n",
      "Enter the number to which you want to find the prime factors(if any)67\n",
      "The prime factors of the number 67 are  [67]\n",
      "\n",
      "DO YOU WANT THE PROGRAM TO RUN AGAIN (y/n)Y\n",
      "\n",
      "Enter the number to which you want to find the prime factors(if any)100\n",
      "The prime factors of the number 100 are  [2, 2, 5, 5]\n",
      "\n",
      "DO YOU WANT THE PROGRAM TO RUN AGAIN (y/n)N\n",
      "\n",
      "\n",
      "Total Time 71.05489611625671\n"
     ]
    }
   ],
   "source": [
    "# MAIN BODY\n",
    "beg = time.time()\n",
    "finalnumber = input(\"Enter the number to which you want to find the prime factors(if any)\")\n",
    "objct = primefactors(int(finalnumber),[])\n",
    "objct.primemethod()\n",
    "objct.mainlogic()\n",
    "\n",
    "while True:\n",
    "    answer = input('\\nDO YOU WANT THE PROGRAM TO RUN AGAIN (y/n)')\n",
    "    if answer.lower() == 'y':\n",
    "        finalnumber = input(\"\\nEnter the number to which you want to find the prime factors(if any)\")\n",
    "        objct = primefactors(int(finalnumber),[])\n",
    "        objct.primemethod()\n",
    "        objct.mainlogic()\n",
    "    elif answer.lower() == 'n':\n",
    "        end = time.time()\n",
    "        break\n",
    "    elif answer.isdigit():\n",
    "        objct = primefactors(int(answer),[])\n",
    "        objct.primemethod()\n",
    "        objct.mainlogic()\n",
    "    else:\n",
    "        print(\"\\nThe input given by the user is not understandable by the program: \\n----------------------------------------------\\nAuto-Terminate has been enabled\")\n",
    "        end = time.time()\n",
    "        break\n",
    "        \n",
    "total = end-beg\n",
    "print('\\n\\nTotal Time',total)"
   ]
  },
  {
   "cell_type": "code",
   "execution_count": null,
   "metadata": {},
   "outputs": [],
   "source": []
  }
 ],
 "metadata": {
  "kernelspec": {
   "display_name": "Python 3",
   "language": "python",
   "name": "python3"
  },
  "language_info": {
   "codemirror_mode": {
    "name": "ipython",
    "version": 3
   },
   "file_extension": ".py",
   "mimetype": "text/x-python",
   "name": "python",
   "nbconvert_exporter": "python",
   "pygments_lexer": "ipython3",
   "version": "3.8.3"
  }
 },
 "nbformat": 4,
 "nbformat_minor": 4
}
